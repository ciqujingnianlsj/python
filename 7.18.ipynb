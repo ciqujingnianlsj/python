{
 "cells": [
  {
   "cell_type": "markdown",
   "metadata": {},
   "source": [
    "# 选择\n",
    "## 布尔类型、数值和表达式\n",
    "![](../Photo/33.png)\n",
    "- 注意：比较运算符的相等是两个等号，一个等到代表赋值\n",
    "- 在Python中可以用整型0来代表False，其他数字来代表True\n",
    "- 后面还会讲到 is 在判断语句中的用发"
   ]
  },
  {
   "cell_type": "markdown",
   "metadata": {},
   "source": [
    "## 字符串的比较使用ASCII值"
   ]
  },
  {
   "cell_type": "markdown",
   "metadata": {},
   "source": [
    "## Markdown \n",
    "- https://github.com/younghz/Markdown"
   ]
  },
  {
   "cell_type": "markdown",
   "metadata": {},
   "source": [
    "## EP:\n",
    "- <img src=\"../Photo/34.png\"></img>\n",
    "- 输入一个数字，判断其实奇数还是偶数"
   ]
  },
  {
   "cell_type": "markdown",
   "metadata": {},
   "source": [
    "## 产生随机数字\n",
    "- 函数random.randint(a,b) 可以用来产生一个a和b之间且包括a和b的随机整数"
   ]
  },
  {
   "cell_type": "markdown",
   "metadata": {},
   "source": [
    "产生一个随机数，你去输入，如果你输入的数大于随机数，那么就告诉你太大了，反之，太小了，\n",
    "然后你一直输入，知道它满意为止"
   ]
  },
  {
   "cell_type": "code",
   "execution_count": 24,
   "metadata": {},
   "outputs": [],
   "source": [
    "import random"
   ]
  },
  {
   "cell_type": "code",
   "execution_count": 27,
   "metadata": {},
   "outputs": [
    {
     "name": "stdout",
     "output_type": "stream",
     "text": [
      "123\n",
      "小了，大点儿\n",
      "231\n",
      "小了，大点儿\n",
      "350\n",
      "小了，大点儿\n",
      "650\n",
      "小了，大点儿\n",
      "999\n",
      "大了，小点儿\n",
      "852\n",
      "大了，小点儿\n",
      "777\n",
      "小了，大点儿\n",
      "800\n",
      "小了，大点儿\n",
      "823\n",
      "小了，大点儿\n",
      "845\n",
      "大了，小点儿\n",
      "836\n",
      "小了，大点儿\n",
      "40\n",
      "小了，大点儿\n"
     ]
    }
   ],
   "source": [
    "number=random.randint(1,1000)\n",
    "for i in range(12):\n",
    "    input_=eval(input(''))\n",
    "    if input_>number:\n",
    "        print('大了，小点儿')\n",
    "    if input_<number:\n",
    "        print('小了，大点儿')\n",
    "    if input_==number:\n",
    "        print('不错，蒙对了')\n",
    "        break   "
   ]
  },
  {
   "cell_type": "markdown",
   "metadata": {},
   "source": [
    "##  其他random方法\n",
    "- random.random 返回0.0到1.0之间前闭后开区间的随机浮点\n",
    "- random.randrange(a,b) 前闭后开"
   ]
  },
  {
   "cell_type": "markdown",
   "metadata": {},
   "source": [
    "## EP：\n",
    "- 产生两个随机整数number1和number2，然后显示给用户，使用户输入数字的和，并判定其是否正确\n",
    "- 进阶:写一个随机序号点名程序"
   ]
  },
  {
   "cell_type": "markdown",
   "metadata": {},
   "source": [
    "## if语句\n",
    "- 如果条件正确就执行一个单向if语句，亦即当条件为真的时候才执行if内部的语句\n",
    "- Python有很多选择语句:\n",
    "> - 单向if \n",
    "  - 双向if-else\n",
    "  - 嵌套if\n",
    "  - 多向if-elif-else\n",
    "  \n",
    "- 注意：当语句含有子语句的时候，那么一定至少要有一个缩进，也就是说如果有儿子存在，那么一定要缩进\n",
    "- 切记不可tab键和space混用，单用tab 或者 space\n",
    "- 当你输出的结果是无论if是否为真时都需要显示时，语句应该与if对齐"
   ]
  },
  {
   "cell_type": "markdown",
   "metadata": {},
   "source": [
    "## EP：\n",
    "- 用户输入一个数字，判断其实奇数还是偶数\n",
    "- 进阶：可以查看下4.5实例研究猜生日"
   ]
  },
  {
   "cell_type": "markdown",
   "metadata": {},
   "source": [
    "## 双向if-else 语句\n",
    "- 如果条件为真，那么走if内部语句，否则走else内部语句"
   ]
  },
  {
   "cell_type": "markdown",
   "metadata": {},
   "source": [
    "## EP：\n",
    "- 产生两个随机整数number1和number2，然后显示给用户，使用户输入数字，并判定其是否正确,如果正确打印“you‘re correct”，否则打印正确错误"
   ]
  },
  {
   "cell_type": "markdown",
   "metadata": {},
   "source": [
    "## 嵌套if 和多向if-elif-else\n",
    "![](../Photo/35.png)"
   ]
  },
  {
   "cell_type": "code",
   "execution_count": 21,
   "metadata": {},
   "outputs": [
    {
     "name": "stdout",
     "output_type": "stream",
     "text": [
      "年轻嘛？（y/n）y\n",
      "帅吗？（y/n）y\n",
      "结婚了吗？（y/n）n\n",
      "见一面吧！\n"
     ]
    }
   ],
   "source": [
    "nianling=input('年轻嘛？（y/n）')\n",
    "if nianling=='y':\n",
    "    zhangxiang=input('帅吗？（y/n）')\n",
    "    if zhangxiang=='y':\n",
    "        hunfou=input('结婚了吗？（y/n）')\n",
    "        if hunfou=='y':\n",
    "            print('回家吧你')\n",
    "        else:\n",
    "            print('见一面吧！')\n",
    "    else:\n",
    "        print('考虑一下')\n",
    "else:\n",
    "    print('拜拜')"
   ]
  },
  {
   "cell_type": "markdown",
   "metadata": {},
   "source": [
    "## EP：\n",
    "- 提示用户输入一个年份，然后显示表示这一年的动物\n",
    "![](../Photo/36.png)\n",
    "- 计算身体质量指数的程序\n",
    "- BMI = 以千克为单位的体重除以以米为单位的身高的平方\n",
    "![](../Photo/37.png)"
   ]
  },
  {
   "cell_type": "code",
   "execution_count": 32,
   "metadata": {},
   "outputs": [
    {
     "name": "stdout",
     "output_type": "stream",
     "text": [
      "year：1998\n",
      "🐯\n"
     ]
    }
   ],
   "source": [
    "year=eval(input('year：'))\n",
    "if year%12==0:\n",
    "    res=\"🐒\"\n",
    "elif year%12==1:\n",
    "    res=\"🐔\"\n",
    "elif year%12==2:\n",
    "    res=\"🐶\"\n",
    "elif year%12==3:\n",
    "    res=\"🐷\"\n",
    "elif year%12==4:\n",
    "    res=\"🐭\"\n",
    "elif year%12==5:\n",
    "    res=\"🐮\"\n",
    "elif year%12==6:\n",
    "    res=\"🐯\"\n",
    "elif year%12==7:\n",
    "    res=\"🐰\"\n",
    "elif year%12==8:\n",
    "    res=\"🐉\"\n",
    "elif year%12==9:\n",
    "    res=\"🐍\"\n",
    "elif year%12==10:\n",
    "    res=\"🐴\"\n",
    "elif year%12==11:\n",
    "    res=\"🐑\"\n",
    "print(res)"
   ]
  },
  {
   "cell_type": "code",
   "execution_count": 34,
   "metadata": {},
   "outputs": [
    {
     "name": "stdout",
     "output_type": "stream",
     "text": [
      "体重70\n",
      "身高1.8\n",
      "标准\n"
     ]
    }
   ],
   "source": [
    "tizhong=eval(input('体重'))\n",
    "shengao=eval(input('身高'))\n",
    "BMI=tizhong/shengao**2\n",
    "if BMI<18.5:\n",
    "    print('超轻')\n",
    "elif 18.5<=BMI<25.0:\n",
    "    print('标准')\n",
    "elif 25.0<=BMI<30.0:\n",
    "    print('超重')\n",
    "elif 30.0<=BMI:\n",
    "    print('痴肥')"
   ]
  },
  {
   "cell_type": "markdown",
   "metadata": {},
   "source": [
    "## 逻辑运算符\n",
    "![](../Photo/38.png)"
   ]
  },
  {
   "cell_type": "markdown",
   "metadata": {},
   "source": [
    "![](../Photo/39.png)\n",
    "![](../Photo/40.png)"
   ]
  },
  {
   "cell_type": "markdown",
   "metadata": {},
   "source": [
    "## EP：\n",
    "- 判定闰年：一个年份如果能被4整除但不能被100整除，或者能被400整除，那么这个年份就是闰年\n",
    "- 提示用户输入一个年份，并返回是否是闰年\n",
    "- 提示用户输入一个数字，判断其是否为水仙花数"
   ]
  },
  {
   "cell_type": "code",
   "execution_count": 44,
   "metadata": {},
   "outputs": [
    {
     "name": "stdout",
     "output_type": "stream",
     "text": [
      "year：3000\n",
      "3000 年不是闰年\n"
     ]
    }
   ],
   "source": [
    "year=eval(input('year：'))\n",
    "if year%4==0 and year%100!=0:\n",
    "     print(year,'年是闰年')\n",
    "elif year%400==0:\n",
    "     print(year,'年是闰年')\n",
    "else:\n",
    "    print(year,'年不是闰年')"
   ]
  },
  {
   "cell_type": "code",
   "execution_count": 46,
   "metadata": {},
   "outputs": [
    {
     "name": "stdout",
     "output_type": "stream",
     "text": [
      "请输入一个数：123\n",
      "123 不是水仙花数\n"
     ]
    }
   ],
   "source": [
    "number=eval(input('请输入一个数：'))\n",
    "bai=number//100\n",
    "shi=number//10%10\n",
    "ge=number%10\n",
    "if bai**3+shi**3+ge**3==number:\n",
    "    print(number,'是水仙花数')\n",
    "else:\n",
    "    print(number,'不是水仙花数')"
   ]
  },
  {
   "cell_type": "markdown",
   "metadata": {},
   "source": [
    "## 实例研究：彩票\n",
    "![](../Photo/41.png)"
   ]
  },
  {
   "cell_type": "code",
   "execution_count": 51,
   "metadata": {},
   "outputs": [
    {
     "name": "stdout",
     "output_type": "stream",
     "text": [
      "请输入预测数字：45\n",
      "彩票数字是： 20\n",
      "谢谢惠顾\n"
     ]
    }
   ],
   "source": [
    "import random\n",
    "number=random.randint(10,99)\n",
    "N=input('请输入预测数字：')\n",
    "print('彩票数字是：',number)\n",
    "num_shi=number//10\n",
    "num_ge=number%10\n",
    "if N[0]=='0':\n",
    "    N_shi=0\n",
    "else:\n",
    "    N_shi=int(N)//10\n",
    "    N_ge=int(N)%10\n",
    "if number==N:\n",
    "    print('恭喜，中了10000元')\n",
    "elif num_shi+num_ge==N_shi+N_ge:\n",
    "    print('恭喜，中了3000元')\n",
    "elif (num_ge==N_ge or num_ge==N_shi) or (num_shi==N_ge or num_shi==N_shi):\n",
    "    print('恭喜，中了1000元')\n",
    "else:\n",
    "    print('谢谢惠顾')"
   ]
  },
  {
   "cell_type": "markdown",
   "metadata": {},
   "source": [
    "# Homework\n",
    "- 1\n",
    "![](../Photo/42.png)"
   ]
  },
  {
   "cell_type": "code",
   "execution_count": 1,
   "metadata": {},
   "outputs": [
    {
     "name": "stdout",
     "output_type": "stream",
     "text": [
      "a,b,c:1,2,3\n",
      "没有根\n"
     ]
    }
   ],
   "source": [
    "a,b,c= eval(input('a,b,c:'))\n",
    "d = b * b - (4 * a * c)\n",
    "if (b * b) - (4 * a * c) > 0:\n",
    "    e1= (-b + d **0.5) / 2 * a\n",
    "    e2= (-b - d **0.5) / 2 * a\n",
    "    print('有两个根',e1,e2)\n",
    "elif (b * b) - (4 * a * c) == 0:\n",
    "    e3= (-b + d **0.5) / 2 * a\n",
    "    print('有一个根',e3)\n",
    "else:\n",
    "    print('没有根')"
   ]
  },
  {
   "cell_type": "markdown",
   "metadata": {},
   "source": [
    "- 2\n",
    "![](../Photo/43.png)"
   ]
  },
  {
   "cell_type": "code",
   "execution_count": 3,
   "metadata": {},
   "outputs": [
    {
     "name": "stdout",
     "output_type": "stream",
     "text": [
      "50\n",
      "大了，小一点儿\n",
      "20\n",
      "大了，小一点儿\n",
      "10\n",
      "大了，小一点儿\n",
      "8\n",
      "恭喜，蒙对了\n",
      "62\n"
     ]
    }
   ],
   "source": [
    "import random\n",
    "number=random.randint(1,100)\n",
    "\n",
    "s = number % 10 + number // 10\n",
    "for i in range(5):\n",
    "    input_=eval(input(''))\n",
    "    if input_>s:\n",
    "        print('大了，小一点儿')\n",
    "    if input_<s:\n",
    "        print('小了，大一点儿')\n",
    "    if input_==s:\n",
    "        print('恭喜，蒙对了')\n",
    "        break   \n",
    "print(number)"
   ]
  },
  {
   "cell_type": "markdown",
   "metadata": {},
   "source": [
    "- 3\n",
    "![](../Photo/44.png)"
   ]
  },
  {
   "cell_type": "code",
   "execution_count": 5,
   "metadata": {},
   "outputs": [
    {
     "name": "stdout",
     "output_type": "stream",
     "text": [
      "请输入第一个数5\n",
      "今天星期五，明天星期六\n"
     ]
    }
   ],
   "source": [
    "x = int(input(\"请输入第一个数\"))\n",
    "if x == 0: \n",
    "    print(\"今天星期日，明天星期一\")\n",
    "elif x == 1: \n",
    "            print(\"今天星期一，明天星期二\")\n",
    "elif x == 2:\n",
    "            print(\"今天星期二，明天星期三\")\n",
    "elif x == 3:\n",
    "            print(\"今天星期三，明天星期四\")\n",
    "elif x == 4:\n",
    "            print(\"今天星期四，明天星期五\")\n",
    "elif x == 5:\n",
    "            print(\"今天星期五，明天星期六\")\n",
    "elif x == 6:\n",
    "            print(\"今天星期六，明天星期日\")"
   ]
  },
  {
   "cell_type": "markdown",
   "metadata": {},
   "source": [
    "- 4\n",
    "![](../Photo/45.png)"
   ]
  },
  {
   "cell_type": "code",
   "execution_count": 7,
   "metadata": {},
   "outputs": [
    {
     "name": "stdout",
     "output_type": "stream",
     "text": [
      "请输入第一个数456\n",
      "请输入第二个数233\n",
      "请输入第三个数789\n",
      "从小到大排列为： 233 456 789\n"
     ]
    }
   ],
   "source": [
    "x = int(input(\"请输入第一个数\"))\n",
    "y = int(input(\"请输入第二个数\"))\n",
    "z = int(input(\"请输入第三个数\"))\n",
    "if x>y:\n",
    "    x,y = y,x\n",
    "if x>z:\n",
    "    x,z = z,x\n",
    "if y>z:\n",
    "    y,z = z,y\n",
    "print('从小到大排列为：',x,y,z)"
   ]
  },
  {
   "cell_type": "markdown",
   "metadata": {},
   "source": [
    "- 5\n",
    "![](../Photo/46.png)"
   ]
  },
  {
   "cell_type": "code",
   "execution_count": 8,
   "metadata": {},
   "outputs": [
    {
     "name": "stdout",
     "output_type": "stream",
     "text": [
      "第一种的重量,价钱分别为:50,24.59\n",
      "第二种的重量,价钱分别为:25,11.99\n",
      "第二种好一些\n"
     ]
    }
   ],
   "source": [
    "a,b = eval(input(\"第一种的重量,价钱分别为:\"))\n",
    "c,d = eval(input(\"第二种的重量,价钱分别为:\"))\n",
    "if (b / a) < (c / d):\n",
    "    print(\"第二种好一些\")\n",
    "elif (b / a) == (c / d):\n",
    "    print(\"两种一样好\")\n",
    "elif (b / a) > (c / d): \n",
    "    print(\"第一种好一些\")"
   ]
  },
  {
   "cell_type": "markdown",
   "metadata": {},
   "source": [
    "- 6\n",
    "![](../Photo/47.png)"
   ]
  },
  {
   "cell_type": "code",
   "execution_count": 9,
   "metadata": {},
   "outputs": [
    {
     "name": "stdout",
     "output_type": "stream",
     "text": [
      "年份：2000\n",
      "月份：2\n",
      "这个月有29天\n"
     ]
    }
   ],
   "source": [
    "year = eval(input('年份：'))\n",
    "month = eval(input('月份：'))\n",
    "if (year % 4 == 0  and year % 100 != 0) or (year % 400 ==0) :\n",
    "    if (month == 2):\n",
    "        print(\"这个月有29天\")\n",
    "    if (month == 1 or month == 3 or month == 5 or month == 7 or month == 8 or month == 10 or month == 12):\n",
    "        print(\"这个月有31天\")\n",
    "    if (month == 4 or month == 6 or month == 9 or month == 11):\n",
    "        print(\"这个月有30天\")\n",
    "else:\n",
    "    if (month == 2):\n",
    "        print(\"这个月有28天\")\n",
    "    if (month == 1 or month == 3 or month == 5 or month == 7 or month == 8 or month == 10 or month == 12):\n",
    "        print(\"这个月有31天\")\n",
    "    if (month == 4 or month == 6 or month == 9 or month == 11):\n",
    "        print(\"这个月有30天\") "
   ]
  },
  {
   "cell_type": "markdown",
   "metadata": {},
   "source": [
    "- 7\n",
    "![](../Photo/48.png)"
   ]
  },
  {
   "cell_type": "code",
   "execution_count": 11,
   "metadata": {},
   "outputs": [
    {
     "name": "stdout",
     "output_type": "stream",
     "text": [
      "2\n",
      "很遗憾，猜错了\n",
      "0\n"
     ]
    }
   ],
   "source": [
    "import random\n",
    "number=random.randint(0,1)\n",
    "for i in range(1):\n",
    "    input_=eval(input(''))\n",
    "    if input_ == number:\n",
    "        print('恭喜你猜对了')\n",
    "    if input_ != number:\n",
    "        print('很遗憾，猜错了')\n",
    "        break \n",
    "print(number)"
   ]
  },
  {
   "cell_type": "markdown",
   "metadata": {},
   "source": [
    "- 8\n",
    "![](../Photo/49.png)"
   ]
  },
  {
   "cell_type": "code",
   "execution_count": 13,
   "metadata": {},
   "outputs": [
    {
     "name": "stdout",
     "output_type": "stream",
     "text": [
      "请输入1\n",
      "哈哈，你输了\n",
      "0\n"
     ]
    }
   ],
   "source": [
    "import random\n",
    "num=random.randint(0,2)\n",
    "s = eval(input('请输入'))\n",
    "if (s == 0 and num == 0) or (s == 1 and num == 1) or (s == 2 and num == 2):\n",
    "    print('再来一次')\n",
    "elif (s == 0 and num == 1) or (s == 1 and num == 2) or (s == 2 and num == 0):\n",
    "    print('哈哈，你输了')  \n",
    "else:\n",
    "    print('恭喜你赢了')\n",
    "print(number)"
   ]
  },
  {
   "cell_type": "markdown",
   "metadata": {},
   "source": [
    "- 9\n",
    "![](../Photo/50.png)"
   ]
  },
  {
   "cell_type": "code",
   "execution_count": 15,
   "metadata": {},
   "outputs": [
    {
     "name": "stdout",
     "output_type": "stream",
     "text": [
      "请输入年份2013\n",
      "请输入月份1\n",
      "请输入这是这个月的第几天25\n",
      "4.449999999999989\n",
      "这天是星期三\n"
     ]
    }
   ],
   "source": [
    "import math\n",
    "y = int(input(\"请输入年份\"))\n",
    "m = int(input(\"请输入月份\"))\n",
    "q = int(input(\"请输入这是这个月的第几天\"))\n",
    "a = q + ((26 * (m + 1)) / 10 )\n",
    "j = y // 100\n",
    "k = y % 100\n",
    "b = k + (k / 4) +(j / 4) + 5 * j\n",
    "h = (a+b)%7\n",
    "print(h)\n",
    "x = math.floor(h)\n",
    "if x == 0: \n",
    "    print(\"这天是星期六\")\n",
    "elif x == 2: \n",
    "            print(\"这天是星期一\")\n",
    "elif x == 3:\n",
    "            print(\"这天是星期二\")\n",
    "elif x == 4:\n",
    "            print(\"这天是星期三\")\n",
    "elif x == 5:\n",
    "            print(\"这天是星期四\")\n",
    "elif x == 6:\n",
    "            print(\"这天是星期五\")\n",
    "elif x == 1:\n",
    "            print(\"这天是星期日\")"
   ]
  },
  {
   "cell_type": "markdown",
   "metadata": {},
   "source": [
    "- 10\n",
    "![](../Photo/51.png)"
   ]
  },
  {
   "cell_type": "code",
   "execution_count": null,
   "metadata": {},
   "outputs": [],
   "source": []
  },
  {
   "cell_type": "markdown",
   "metadata": {},
   "source": [
    "- 11\n",
    "![](../Photo/52.png)"
   ]
  },
  {
   "cell_type": "code",
   "execution_count": 16,
   "metadata": {},
   "outputs": [
    {
     "name": "stdout",
     "output_type": "stream",
     "text": [
      "请输入一个数12321\n",
      "这个数是回文数\n"
     ]
    }
   ],
   "source": [
    "y = input(\"请输入一个数\")\n",
    "b = y[::-1]\n",
    "if y == b:\n",
    "    print(\"这个数是回文数\")\n",
    "else:\n",
    "    print(\"这个数不是回文数\")"
   ]
  },
  {
   "cell_type": "markdown",
   "metadata": {},
   "source": [
    "- 12\n",
    "![](../Photo/53.png)"
   ]
  },
  {
   "cell_type": "code",
   "execution_count": 22,
   "metadata": {},
   "outputs": [
    {
     "name": "stdout",
     "output_type": "stream",
     "text": [
      "请输入三角形三条边的长度：3,4,5\n",
      "这个三角形的周长为： 12\n"
     ]
    }
   ],
   "source": [
    "a,b,c=eval(input('请输入三角形三条边的长度：'))\n",
    "if a>0 and b>0 and c>0 and a+b>c and a+c>b and b+c>a:\n",
    "    d = a + b + c\n",
    "    print('这个三角形的周长为：',d)\n",
    "else:\n",
    "    print(\"三角形不成立，请重新输入\")"
   ]
  },
  {
   "cell_type": "code",
   "execution_count": null,
   "metadata": {},
   "outputs": [],
   "source": []
  }
 ],
 "metadata": {
  "kernelspec": {
   "display_name": "Python 3",
   "language": "python",
   "name": "python3"
  },
  "language_info": {
   "codemirror_mode": {
    "name": "ipython",
    "version": 3
   },
   "file_extension": ".py",
   "mimetype": "text/x-python",
   "name": "python",
   "nbconvert_exporter": "python",
   "pygments_lexer": "ipython3",
   "version": "3.7.3"
  }
 },
 "nbformat": 4,
 "nbformat_minor": 2
}
